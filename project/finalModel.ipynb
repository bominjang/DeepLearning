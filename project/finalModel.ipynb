{
 "cells": [
  {
   "cell_type": "code",
   "execution_count": 1,
   "id": "charitable-diameter",
   "metadata": {},
   "outputs": [
    {
     "name": "stdout",
     "output_type": "stream",
     "text": [
      "importing Jupyter notebook from readdata.ipynb\n"
     ]
    },
    {
     "name": "stderr",
     "output_type": "stream",
     "text": [
     
     ]
    }
   ],
   "source": [
    "import numpy as np\n",
    "import pandas as pd\n",
    "import matplotlib.pyplot as plt\n",
    "import import_ipynb\n",
    "import readdata"
   ]
  },
  {
   "cell_type": "code",
   "execution_count": 2,
   "id": "reduced-creation",
   "metadata": {},
   "outputs": [],
   "source": [
    "from sklearn.model_selection import train_test_split\n",
    "from tensorflow.keras.models import Sequential, load_model, save_model, load_model\n",
    "from tensorflow.keras.layers import SimpleRNN,LSTM, Dense, RepeatVector, Masking, TimeDistributed, Bidirectional\n",
    "from tensorflow. keras.utils import plot_model\n",
    "from tensorflow.keras.losses import MeanSquaredError\n",
    "from tensorflow.keras.callbacks import ModelCheckpoint\n",
    "from tensorflow.python.keras.callbacks import EarlyStopping\n",
    "import tensorflow as tf\n",
    "import pprint\n",
    "\n",
    "pp=pprint.PrettyPrinter(indent=4)"
   ]
  },
  {
   "cell_type": "code",
   "execution_count": 3,
   "id": "referenced-excess",
   "metadata": {},
   "outputs": [],
   "source": [
    "groupset=[]\n",
    "over_100_group=[]\n",
    "for i in range(len(readdata.normal)):\n",
    "    gb = readdata.normal[i].groupby(['_ws.col.Protocol','ip.src','ip.dst','tcp.srcport','tcp.dstport'])\n",
    "    for key, group in gb:\n",
    "        group = np.asarray(group)\n",
    "        if len(group)>100:\n",
    "            over_100_group.append(group)\n",
    "        else :\n",
    "            groupset.append(group)"
   ]
  },
  {
   "cell_type": "code",
   "execution_count": 4,
   "id": "contained-announcement",
   "metadata": {},
   "outputs": [],
   "source": [
    "def splitlen(array):\n",
    "    split=array[:100,:]\n",
    "    return split\n"
   ]
  },
  {
   "cell_type": "code",
   "execution_count": 5,
   "id": "elementary-hawaii",
   "metadata": {},
   "outputs": [],
   "source": [
    "for i in range(len(over_100_group)):\n",
    "    groupset.append(splitlen(over_100_group[i]))"
   ]
  },
  {
   "cell_type": "code",
   "execution_count": 6,
   "id": "threatened-baker",
   "metadata": {},
   "outputs": [
    {
     "data": {
      "text/plain": [
       "891937"
      ]
     },
     "execution_count": 6,
     "metadata": {},
     "output_type": "execute_result"
    }
   ],
   "source": [
    "len(groupset)"
   ]
  },
  {
   "cell_type": "code",
   "execution_count": 7,
   "id": "vulnerable-participation",
   "metadata": {},
   "outputs": [],
   "source": [
    "X_sequnce=[]\n",
    "for i in range(len(groupset)):\n",
    "    X_sequnce.append(len(groupset[i]))\n",
    "    \n"
   ]
  },
  {
   "cell_type": "code",
   "execution_count": 8,
   "id": "corresponding-blade",
   "metadata": {},
   "outputs": [],
   "source": [
    "for i in range(len(groupset)):\n",
    "    if len(groupset[i])>100:\n",
    "        print(i)"
   ]
  },
  {
   "cell_type": "code",
   "execution_count": 9,
   "id": "broke-cleaning",
   "metadata": {},
   "outputs": [],
   "source": [
    "X=[]\n",
    "for i in range(len(groupset)):\n",
    "    temp=np.delete(groupset[i],[0,1,2,3,4],1)\n",
    "    num=100-len(temp)\n",
    "    X.append(np.pad(temp,((0,num),(0,0)),'constant'))\n"
   ]
  },
  {
   "cell_type": "code",
   "execution_count": 10,
   "id": "serious-japanese",
   "metadata": {},
   "outputs": [],
   "source": [
    "X_data=np.asarray(X)"
   ]
  },
  {
   "cell_type": "code",
   "execution_count": 11,
   "id": "first-generator",
   "metadata": {},
   "outputs": [
    {
     "data": {
      "text/plain": [
       "891937"
      ]
     },
     "execution_count": 11,
     "metadata": {},
     "output_type": "execute_result"
    }
   ],
   "source": [
    "len(X_data)"
   ]
  },
  {
   "cell_type": "code",
   "execution_count": 12,
   "id": "specified-coating",
   "metadata": {},
   "outputs": [],
   "source": [
    "Y_data=[]\n",
    "for i in range(len(X_data)):\n",
    "    Y_data.append(0)"
   ]
  },
  {
   "cell_type": "code",
   "execution_count": 13,
   "id": "dominant-cover",
   "metadata": {},
   "outputs": [
    {
     "data": {
      "text/plain": [
       "891937"
      ]
     },
     "execution_count": 13,
     "metadata": {},
     "output_type": "execute_result"
    }
   ],
   "source": [
    "len(Y_data)"
   ]
  },
  {
   "cell_type": "markdown",
   "id": "aerial-treasurer",
   "metadata": {},
   "source": [
    "공격데이터"
   ]
  },
  {
   "cell_type": "code",
   "execution_count": 14,
   "id": "considered-checklist",
   "metadata": {},
   "outputs": [],
   "source": [
    "groupset_a=[]\n",
    "over_100_group_a=[]\n",
    "gb = readdata.attack.groupby(['_ws.col.Protocol','ip.src','ip.dst','tcp.srcport','tcp.dstport'])\n",
    "for key, group in gb:\n",
    "    group = np.asarray(group)\n",
    "    if len(group)>100:\n",
    "        over_100_group_a.append(group)\n",
    "    else :\n",
    "        groupset_a.append(group)\n"
   ]
  },
  {
   "cell_type": "code",
   "execution_count": 15,
   "id": "streaming-sponsorship",
   "metadata": {},
   "outputs": [
    {
     "data": {
      "text/plain": [
       "[]"
      ]
     },
     "execution_count": 15,
     "metadata": {},
     "output_type": "execute_result"
    }
   ],
   "source": [
    "over_100_group_a"
   ]
  },
  {
   "cell_type": "code",
   "execution_count": 16,
   "id": "distributed-miller",
   "metadata": {},
   "outputs": [
    {
     "name": "stdout",
     "output_type": "stream",
     "text": [
      "892272\n"
     ]
    }
   ],
   "source": [
    "for i in range(len(groupset_a)):\n",
    "    X_sequnce.append(len(groupset_a[i]))\n",
    "    \n",
    "seq_length_batch = np.array(X_sequnce)\n",
    "print(len(X_sequnce))"
   ]
  },
  {
   "cell_type": "code",
   "execution_count": 17,
   "id": "convenient-chemical",
   "metadata": {},
   "outputs": [
    {
     "data": {
      "text/plain": [
       
       "       dtype=object)]"
      ]
     },
     "execution_count": 17,
     "metadata": {},
     "output_type": "execute_result"
    }
   ],
   "source": [
    "groupset_a"
   ]
  },
  {
   "cell_type": "code",
   "execution_count": 18,
   "id": "musical-detection",
   "metadata": {},
   "outputs": [],
   "source": [
    "X_a=[]\n",
    "for i in range(len(groupset_a)):\n",
    "    temp=np.delete(groupset_a[i],[0,1,2,3,4],1)\n",
    "    num=100-len(temp)\n",
    "    X_a.append(np.pad(temp,((0,num),(0,0)),'constant'))"
   ]
  },
  {
   "cell_type": "code",
   "execution_count": 19,
   "id": "serial-engineering",
   "metadata": {},
   "outputs": [
    {
     "name": "stdout",
     "output_type": "stream",
     "text": [
      "335 100\n"
     ]
    }
   ],
   "source": [
    "print(len(X_a),len(X_a[300]))"
   ]
  },
  {
   "cell_type": "code",
   "execution_count": 20,
   "id": "equivalent-registrar",
   "metadata": {},
   "outputs": [],
   "source": [
    "Y_a=[]\n",
    "for i in range(len(X_a)):\n",
    "    Y_a.append(1)"
   ]
  },
  {
   "cell_type": "code",
   "execution_count": 21,
   "id": "biblical-intention",
   "metadata": {
    "scrolled": true
   },
   "outputs": [
    {
     "name": "stdout",
     "output_type": "stream",
     "text": [
      "335 1\n"
     ]
    }
   ],
   "source": [
    "print(len(Y_a),Y_a[300])"
   ]
  },
  {
   "cell_type": "code",
   "execution_count": 22,
   "id": "standard-engine",
   "metadata": {},
   "outputs": [],
   "source": [
    "X_attack_data=np.asarray(X_a)\n",
    "Y_attack_data=np.asarray(Y_a)"
   ]
  },
  {
   "cell_type": "code",
   "execution_count": 23,
   "id": "simple-rendering",
   "metadata": {},
   "outputs": [],
   "source": [
    "X_total=np.concatenate((X_data,X_attack_data), axis=0)\n",
    "#index : 0~891936 까지 normal, 총 891937"
   ]
  },
  {
   "cell_type": "code",
   "execution_count": 24,
   "id": "yellow-cooper",
   "metadata": {},
   "outputs": [
    {
     "data": {
      "text/plain": [
       "(892272, 100, 3)"
      ]
     },
     "execution_count": 24,
     "metadata": {},
     "output_type": "execute_result"
    }
   ],
   "source": [
    "X_total.shape"
   ]
  },
  {
   "cell_type": "code",
   "execution_count": 25,
   "id": "front-conditioning",
   "metadata": {},
   "outputs": [],
   "source": [
    "Y_total=np.concatenate((Y_data,Y_attack_data), axis=0)"
   ]
  },
  {
   "cell_type": "code",
   "execution_count": 26,
   "id": "olympic-frederick",
   "metadata": {},
   "outputs": [
    {
     "data": {
      "text/plain": [
       "(892272,)"
      ]
     },
     "execution_count": 26,
     "metadata": {},
     "output_type": "execute_result"
    }
   ],
   "source": [
    "Y_total.shape"
   ]
  },
  {
   "cell_type": "code",
   "execution_count": 27,
   "id": "specific-quantum",
   "metadata": {},
   "outputs": [],
   "source": [
    "X_train, X_test, Y_train, Y_test = train_test_split(X_total,Y_total, test_size=0.3, shuffle=True ,random_state=101)"
   ]
  },
  {
   "cell_type": "code",
   "execution_count": 28,
   "id": "weekly-denver",
   "metadata": {},
   "outputs": [],
   "source": [
    "X_train.shape\n",
    "X_train = X_train.astype(float)"
   ]
  },
  {
   "cell_type": "code",
   "execution_count": 29,
   "id": "proprietary-spice",
   "metadata": {},
   "outputs": [
    {
     "data": {
      "text/plain": [
       "(267682, 100, 3)"
      ]
     },
     "execution_count": 29,
     "metadata": {},
     "output_type": "execute_result"
    }
   ],
   "source": [
    "X_test.shape"
   ]
  },
  {
   "cell_type": "code",
   "execution_count": 30,
   "id": "english-peoples",
   "metadata": {},
   "outputs": [],
   "source": [
    "Y_train.shape\n",
    "Y_train = Y_train.astype(float)"
   ]
  },
  {
   "cell_type": "code",
   "execution_count": 31,
   "id": "controlling-danger",
   "metadata": {},
   "outputs": [
    {
     "data": {
      "text/plain": [
       "(267682,)"
      ]
     },
     "execution_count": 31,
     "metadata": {},
     "output_type": "execute_result"
    }
   ],
   "source": [
    "Y_test.shape"
   ]
  },
  {
   "cell_type": "code",
   "execution_count": 32,
   "id": "monthly-preparation",
   "metadata": {},
   "outputs": [],
   "source": [
    "# cell = tf.contrib.rnn.BasicLSTMCell(num_units=5, state_is_tuple=True)\n",
    "# outputs, _states = tf.nn.dynamic_rnn(cell, x_data, dtype=tf.float32,\n",
    "#                                          sequence_length=[1, 3, 2])\n",
    "# lentgh 1 for batch 1, lentgh 2 for batch 2\n",
    "    \n",
    "# print(\"dynamicrnn: \", outputs)\n",
    "# sess.run(tf.global_variables_initializer())\n",
    "# pp.pprint(outputs.eval())  # batch size, unrolling (time), hidden_size"
   ]
  },
  {
   "cell_type": "code",
   "execution_count": 36,
   "id": "labeled-violin",
   "metadata": {},
   "outputs": [],
   "source": [
    "es = EarlyStopping(monitor='val_loss', mode='min', verbose=1, patience=4)\n",
    "mc = ModelCheckpoint('best_model.h5', monitor='val_acc', mode='max', verbose=1, save_best_only=True)\n"
   ]
  },
  {
   "cell_type": "code",
   "execution_count": 37,
   "id": "similar-intellectual",
   "metadata": {},
   "outputs": [
    {
     "name": "stdout",
     "output_type": "stream",
     "text": [
      "Epoch 1/10\n",
      "3904/3904 [==============================] - 521s 132ms/step - loss: 0.7715 - acc: 0.9751 - val_loss: 0.0848 - val_acc: 0.9985\n",
      "Epoch 2/10\n",
      "3904/3904 [==============================] - 509s 130ms/step - loss: 0.0999 - acc: 0.9960 - val_loss: 0.1052 - val_acc: 0.9989\n",
      "Epoch 3/10\n",
      "3904/3904 [==============================] - 505s 129ms/step - loss: 0.0842 - acc: 0.9982 - val_loss: 0.0847 - val_acc: 0.9983\n",
      "Epoch 4/10\n",
      "3904/3904 [==============================] - 510s 131ms/step - loss: 0.0647 - acc: 0.9987 - val_loss: 0.0383 - val_acc: 0.9994\n",
      "Epoch 5/10\n",
      "3904/3904 [==============================] - 509s 130ms/step - loss: 0.1449 - acc: 0.9951 - val_loss: 0.0522 - val_acc: 0.9989\n",
      "Epoch 6/10\n",
      "3904/3904 [==============================] - 508s 130ms/step - loss: 0.0654 - acc: 0.9986 - val_loss: 0.0523 - val_acc: 0.9994\n",
      "Epoch 7/10\n",
      "3904/3904 [==============================] - 509s 130ms/step - loss: 0.0558 - acc: 0.9987 - val_loss: 0.0511 - val_acc: 0.9994\n",
      "Epoch 8/10\n",
      "3904/3904 [==============================] - 508s 130ms/step - loss: 0.0543 - acc: 0.9987 - val_loss: 0.0626 - val_acc: 0.9976\n",
      "Epoch 9/10\n",
      "3904/3904 [==============================] - 508s 130ms/step - loss: 0.1524 - acc: 0.9965 - val_loss: 0.0499 - val_acc: 0.9990\n",
      "Epoch 10/10\n",
      "3904/3904 [==============================] - 508s 130ms/step - loss: 0.0714 - acc: 0.9980 - val_loss: 0.0373 - val_acc: 0.9994\n"
     ]
    }
   ],
   "source": [
    "learning_rate = 0.001\n",
    "seq_length = 100\n",
    "data_dim = 3\n",
    "model = Sequential()\n",
    "model.add(Masking(mask_value=0.,input_shape=(100, 3)))\n",
    "model.add(Bidirectional(LSTM(64, activation='tanh', kernel_regularizer='l2', input_shape=(100,3))))\n",
    "model.add(Dense(128,activation='relu', kernel_regularizer='l2'))\n",
    "model.add(Dense(1, activation='sigmoid', kernel_regularizer='l2'))\n",
    "          \n",
    "model.compile(loss='binary_crossentropy', optimizer=tf.keras.optimizers.Adam(lr=learning_rate), metrics=['acc'])\n",
    "\n",
    "class_weights = {0: 1, 1:1500}\n",
    "          \n",
    "history = model.fit(X_train, Y_train, epochs=10, batch_size=128, validation_split=0.2, class_weight=class_weights)\n",
    "\n",
    "model.save('ten.h5')"
   ]
  },
  {
   "cell_type": "code",
   "execution_count": 38,
   "id": "progressive-nudist",
   "metadata": {},
   "outputs": [
    {
     "data": {
      "image/png": "[encoded data removed]",
      "text/plain": [
       "<Figure size 432x288 with 1 Axes>"
      ]
     },
     "metadata": {
      "needs_background": "light"
     },
     "output_type": "display_data"
    }
   ],
   "source": [
    "history_dict = history.history\n",
    "loss = history_dict['loss']\n",
    "val_loss = history_dict['val_loss']\n",
    "\n",
    "epochs = range(1, len(loss) + 1)\n",
    "\n",
    "plt.plot(epochs, loss, 'bo', label='Training loss')  # ‘bo’는 파란색 점을 의미합니다.\n",
    "plt.plot(epochs, val_loss, 'b', label='Validation loss') # ‘b’는 파란색 실선을 의미합니다.\n",
    "plt.title('Training and validation loss')\n",
    "plt.xlabel('Epochs')\n",
    "plt.ylabel('Loss')\n",
    "plt.legend()\n",
    "\n",
    "plt.show()\n"
   ]
  },
  {
   "cell_type": "code",
   "execution_count": 39,
   "id": "ambient-kansas",
   "metadata": {},
   "outputs": [],
   "source": [
    "X_test = X_test.astype(float)\n",
    "predict = model.predict(X_test)"
   ]
  },
  {
   "cell_type": "code",
   "execution_count": 44,
   "id": "frozen-singapore",
   "metadata": {},
   "outputs": [],
   "source": [
    "import seaborn as sns"
   ]
  },
  {
   "cell_type": "code",
   "execution_count": 46,
   "id": "infinite-wales",
   "metadata": {},
   "outputs": [
    {
     "name": "stdout",
     "output_type": "stream",
     "text": [
      "acc: 99.93%\n"
     ]
    },
    {
     "data": {
      "image/png": "[encoded data removed]",
      "text/plain": [
       "<Figure size 432x288 with 2 Axes>"
      ]
     },
     "metadata": {
      "needs_background": "light"
     },
     "output_type": "display_data"
    }
   ],
   "source": [
    "tp = 0\n",
    "tn = 0\n",
    "fp = 0\n",
    "fn = 0\n",
    "predictn = predict.flatten().round()\n",
    "predictn = predictn.tolist()\n",
    "Y_testn = Y_test.tolist()\n",
    "for i in range(len(Y_testn)):\n",
    "    if predictn[i] == 1 and Y_testn[i] == 1:\n",
    "        tn += 1\n",
    "    elif predictn[i] == 0 and Y_testn[i] == 0:\n",
    "        tp += 1\n",
    "    elif predictn[i] == 0 and Y_testn[i] == 1:\n",
    "        fn += 1\n",
    "    elif predictn[i] == 1 and Y_testn[i] == 0:\n",
    "        fp += 1\n",
    "\n",
    "to_heat_map = [[tn, fp], [fn, tp]]\n",
    "to_heat_map = pd.DataFrame(to_heat_map, index=[\"Attack\", \"Normal\"], columns=[\"Attack\", \"Normal\"])\n",
    "ax = sns.heatmap(to_heat_map, annot=True, fmt=\"d\")\n",
    "\n",
    "scores = model.evaluate(X_test, Y_test, verbose=0)\n",
    "print(\"%s: %.2f%%\" % (model.metrics_names[1], scores[1] * 100))"
   ]
  },
  {
   "cell_type": "code",
   "execution_count": 47,
   "id": "initial-villa",
   "metadata": {},
   "outputs": [
    {
     "name": "stdout",
     "output_type": "stream",
     "text": [
      "267381 116 185 0\n"
     ]
    }
   ],
   "source": [
    "print(tp, tn, fp, fn)"
   ]
  },
  {
   "cell_type": "code",
   "execution_count": null,
   "id": "canadian-proxy",
   "metadata": {
    "scrolled": true
   },
   "outputs": [],
   "source": []
  },
  {
   "cell_type": "code",
   "execution_count": null,
   "id": "martial-leeds",
   "metadata": {},
   "outputs": [],
   "source": []
  },
  {
   "cell_type": "code",
   "execution_count": 51,
   "id": "thousand-collect",
   "metadata": {},
   "outputs": [
    {
     "data": {
      "image/png": "[encoded data removed]",
      "text/plain": [
       "<Figure size 432x288 with 1 Axes>"
      ]
     },
     "metadata": {
      "needs_background": "light"
     },
     "output_type": "display_data"
    }
   ],
   "source": [
    "# Plot predictions\n",
    "plt.plot(predict)\n",
    "plt.plot(Y_test)\n",
    "plt.xlabel(\"Time Period\")\n",
    "plt.ylabel(\"mal\")\n",
    "plt.show()"
   ]
  },
  {
   "cell_type": "code",
   "execution_count": null,
   "id": "backed-bulletin",
   "metadata": {},
   "outputs": [],
   "source": []
  },
  {
   "cell_type": "code",
   "execution_count": null,
   "id": "everyday-gnome",
   "metadata": {},
   "outputs": [],
   "source": []
  },
  {
   "cell_type": "code",
   "execution_count": null,
   "id": "distant-israeli",
   "metadata": {},
   "outputs": [],
   "source": []
  }
 ],
 "metadata": {
  "kernelspec": {
   "display_name": "Python 3",
   "language": "python",
   "name": "python3"
  },
  "language_info": {
   "codemirror_mode": {
    "name": "ipython",
    "version": 3
   },
   "file_extension": ".py",
   "mimetype": "text/x-python",
   "name": "python",
   "nbconvert_exporter": "python",
   "pygments_lexer": "ipython3",
   "version": "3.6.9"
  }
 },
 "nbformat": 4,
 "nbformat_minor": 5
}
