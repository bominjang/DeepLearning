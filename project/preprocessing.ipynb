import pandas as pd
import numpy as np
import tensorflow as tf

BASE_URL = "~~~bmLAB/KISA-challenge2019-Network_trainset"
initial = []

for i in range(0,8):
    if(i<7):
        df = pd.read_csv(BASE_URL+"/network_train_set2/set2_%d.csv"%(i), encoding='utf-8', error_bad_lines=False)
        df = df.loc[:,"tcp.srcport":"tcp.ack"].dropna().astype(pd.Int64Dtype())
        df.loc[:,"mal"]= 0
        initial.append(df)
    df = pd.read_csv(BASE_URL+"/network_train_set1/network_train_set1_0000%d.csv"%(i), encoding='utf-8', error_bad_lines=False)
    df = df.loc[:,"tcp.srcport":"tcp.ack"].dropna().astype(pd.Int64Dtype())
    df.loc[:,"mal"]= 0
    initial.append(df)
    
all_normal = np.asarray(initial)
all_normal = np.concatenate((initial[0],initial[1]), axis=0)
for i in range(2,15):
    all_normal = np.concatenate((all_normal,initial[i]), axis=0)
    
all_normal.shape
all_normal

df = pd.read_csv(BASE_URL+"/03.Brute_Force_attack_sample(70).csv", encoding='utf-8', error_bad_lines=False)
df = df.loc[:,"tcp.srcport":"tcp.ack"].dropna().astype(pd.Int64Dtype())
df.loc[:,"mal"]= 1
all_attack = np.asarray(df)

all_attack

all_data = np.concatenate((all_normal,all_attack), axis=0)

all_data.shape

X = all_data[:,0:5]
Y = all_data[:,5]

X
Y
