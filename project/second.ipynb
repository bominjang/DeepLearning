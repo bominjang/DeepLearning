initial = []



for i in range(0,8):
    if(i<7):
        df = pd.read_csv(BASE_URL+"/network_train_set2/set2_%d.csv"%(i), encoding='utf-8', error_bad_lines=False)
        df = df.loc[:,"_ws.col.UTCtime":"tcp.ack"].dropna()
        df= df.astype({'tcp.srcport': 'int','tcp.dstport': 'int','tcp.len': 'int','tcp.seq':'int','tcp.ack': 'int'})
        index = df["_ws.col.UTCtime"].unique()
        for i in range(len(index)):
            df.loc[df["_ws.col.UTCtime"] == index[i],"_ws.col.UTCtime"] = i
        initial.append(df)
    df = pd.read_csv(BASE_URL+"/network_train_set1/network_train_set1_0000%d.csv"%(i), encoding='utf-8', error_bad_lines=False)
    df = df.loc[:,"_ws.col.UTCtime":"tcp.ack"].dropna()
    df= df.astype({'tcp.srcport': 'int','tcp.dstport': 'int','tcp.len': 'int','tcp.seq':'int','tcp.ack': 'int'})
    index = df["_ws.col.UTCtime"].unique()
    for i in range(len(index)):
        df.loc[df["_ws.col.UTCtime"] == index[i],"_ws.col.UTCtime"] = i
    initial.append(df)
    
    
datagroup = initial.groupby(["_ws.col.Protocol","ip.src","ip.dst","tcp.srcport","tcp.dstport"]) 
groupset=[]
for key, group in datagroup:
    print("* key", key)
    print("* count", len(group))
    print(group.head())
    print('\n')
    groupset.append(group.transform)
    
    
    
all_normal = np.asarray(initial)
all_normal = np.concatenate((initial[0],initial[1]), axis=0)
for i in range(2,len(group)):
    all_normal = np.concatenate((all_normal,initial[i]), axis=0)
    
all_normal.shape

all_normal


